{
  "nbformat": 4,
  "nbformat_minor": 0,
  "metadata": {
    "colab": {
      "provenance": []
    },
    "kernelspec": {
      "name": "python3",
      "display_name": "Python 3"
    },
    "language_info": {
      "name": "python"
    }
  },
  "cells": [
    {
      "cell_type": "markdown",
      "source": [
        "Problema del Viajante de Comercio (TSP)\n",
        "\n",
        "El Problema del Viajante de Comercio (TSP) es un problema clásico donde se busca la ruta más corta que visita una lista de ciudades y regresa a la ciudad de origen.\n",
        "\n",
        "Pasos\n",
        "1. Inicialización: Generar una ruta inicial aleatoria.\n",
        "2. Evaluación: Calcular la distancia total de la ruta.\n",
        "3. Vecindario: Generar nuevas rutas intercambiando dos ciudades (movimiento 2-opt).\n",
        "4. Selección: Evaluar las rutas vecinas y elegir la que tenga la menor distancia.\n",
        "5. Movimiento: Si la nueva ruta es mejor, actualizar la ruta actual.\n",
        "6. Parada: Continuar hasta que no se encuentre una mejor ruta en varias iteraciones consecutivas."
      ],
      "metadata": {
        "id": "3gJ-ervuBx98"
      }
    },
    {
      "cell_type": "code",
      "execution_count": 2,
      "metadata": {
        "colab": {
          "base_uri": "https://localhost:8080/"
        },
        "id": "Hm78Gdpn2kpX",
        "outputId": "dccc0d6d-599a-4d69-8412-b2e24e5c432f"
      },
      "outputs": [
        {
          "output_type": "stream",
          "name": "stdout",
          "text": [
            "La mejor ruta encontrada es: [3, 2, 0, 1] con una distancia de: 80\n"
          ]
        }
      ],
      "source": [
        "import random\n",
        "import math\n",
        "\n",
        "#Calcula la distancia total de una ruta dada una matriz de distancias.\n",
        "def calcular_distancia(ruta, distancia_matriz):\n",
        "    distancia = 0\n",
        "    for i in range(len(ruta)):\n",
        "        distancia += distancia_matriz[ruta[i-1]][ruta[i]]\n",
        "    return distancia\n",
        "\n",
        "# Genera una ruta inicial aleatoria.\n",
        "def generar_ruta_inicial(n):\n",
        "    ruta = list(range(n))\n",
        "    random.shuffle(ruta)\n",
        "    return ruta\n",
        "\n",
        "#Genera el vecindario de una ruta actual usando el movimiento 2-opt.\n",
        "def get_neighbors(ruta):\n",
        "    neighbors = []\n",
        "    for i in range(len(ruta)):\n",
        "        for j in range(i + 1, len(ruta)):\n",
        "            neighbor = ruta[:]\n",
        "            neighbor[i], neighbor[j] = neighbor[j], neighbor[i]\n",
        "            neighbors.append(neighbor)\n",
        "    return neighbors\n",
        "\n",
        "#Implementa el algoritmo de búsqueda local para encontrar la mejor ruta.\n",
        "def tsp_local_search(distancia_matriz):\n",
        "    n = len(distancia_matriz)\n",
        "    current_route = generar_ruta_inicial(n)\n",
        "    current_distance = calcular_distancia(current_route, distancia_matriz)\n",
        "\n",
        "    while True:\n",
        "        neighbors = get_neighbors(current_route)\n",
        "        best_neighbor = None\n",
        "        best_distance = current_distance\n",
        "\n",
        "        for neighbor in neighbors:\n",
        "            neighbor_distance = calcular_distancia(neighbor, distancia_matriz)\n",
        "            if neighbor_distance < best_distance:\n",
        "                best_neighbor = neighbor\n",
        "                best_distance = neighbor_distance\n",
        "\n",
        "        if best_neighbor:\n",
        "            current_route = best_neighbor\n",
        "            current_distance = best_distance\n",
        "        else:\n",
        "            break\n",
        "\n",
        "    return current_route, current_distance\n",
        "\n",
        "# Ejemplo de matriz de distancias\n",
        "distancia_matriz = [\n",
        "    [0, 10, 15, 20],\n",
        "    [10, 0, 35, 25],\n",
        "    [15, 35, 0, 30],\n",
        "    [20, 25, 30, 0]\n",
        "]\n",
        "\n",
        "# Ejecución del algoritmo\n",
        "best_route, best_distance = tsp_local_search(distancia_matriz)\n",
        "print(f\"La mejor ruta encontrada es: {best_route} con una distancia de: {best_distance}\")\n"
      ]
    }
  ]
}