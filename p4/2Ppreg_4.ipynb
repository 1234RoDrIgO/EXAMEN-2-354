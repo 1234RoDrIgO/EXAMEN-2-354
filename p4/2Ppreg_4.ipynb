{
  "nbformat": 4,
  "nbformat_minor": 0,
  "metadata": {
    "colab": {
      "provenance": []
    },
    "kernelspec": {
      "name": "python3",
      "display_name": "Python 3"
    },
    "language_info": {
      "name": "python"
    }
  },
  "cells": [
    {
      "cell_type": "markdown",
      "source": [
        "Descripción del Algoritmo de Recocido Simulado\n",
        "\n",
        "1. Inicialización: Comienza con una solución inicial y una temperatura alta.\n",
        "2. Perturbación: Genera una nueva solución vecina mediante una pequeña modificación de la solución actual.\n",
        "3. Evaluación: Calcula la diferencia de la función objetivo entre la nueva solución y la solución actual.\n",
        "Aceptación: Si la nueva solución es mejor, se acepta. Si es peor, se acepta con una probabilidad que disminuye con el tiempo (basada en la temperatura).\n",
        "4. Enfriamiento: Reduce la temperatura gradualmente.\n",
        "5. Parada: El proceso se repite hasta que la temperatura alcanza un valor mínimo.\n",
        "\n",
        "Ejemplo: Problema del Viajante de Comercio (TSP)\n",
        "\n",
        "Vamos a implementar el algoritmo de Recocido Simulado para resolver el TSP. En este problema, se busca la ruta más corta que visita un conjunto de ciudades exactamente una vez y regresa a la ciudad de origen."
      ],
      "metadata": {
        "id": "S0MGyXRHDkSd"
      }
    },
    {
      "cell_type": "code",
      "execution_count": 1,
      "metadata": {
        "colab": {
          "base_uri": "https://localhost:8080/"
        },
        "id": "F4_bJTyVDiAm",
        "outputId": "23573413-9c2d-4447-bbba-d6581ab23c2f"
      },
      "outputs": [
        {
          "output_type": "stream",
          "name": "stdout",
          "text": [
            "La mejor ruta encontrada es: [2, 3, 1, 0] con una distancia de: 80\n"
          ]
        }
      ],
      "source": [
        "import random\n",
        "import math\n",
        "\n",
        "# Calcular la distancia total de una ruta\n",
        "def calculate_distance(route, distance_matrix):\n",
        "    distance = 0\n",
        "    for i in range(len(route)):\n",
        "        distance += distance_matrix[route[i-1]][route[i]]\n",
        "    return distance\n",
        "\n",
        "# Generar una solución inicial (ruta aleatoria)\n",
        "def generate_initial_route(n):\n",
        "    route = list(range(n))\n",
        "    random.shuffle(route)\n",
        "    return route\n",
        "\n",
        "# Generar un vecino (permuta dos ciudades)\n",
        "def get_neighbor(route):\n",
        "    neighbor = route[:]\n",
        "    i, j = random.sample(range(len(route)), 2)\n",
        "    neighbor[i], neighbor[j] = neighbor[j], neighbor[i]\n",
        "    return neighbor\n",
        "\n",
        "# Función de Recocido Simulado\n",
        "def simulated_annealing(distance_matrix, initial_temperature, cooling_rate, stopping_temperature):\n",
        "    current_route = generate_initial_route(len(distance_matrix))\n",
        "    current_distance = calculate_distance(current_route, distance_matrix)\n",
        "    temperature = initial_temperature\n",
        "\n",
        "    while temperature > stopping_temperature:\n",
        "        new_route = get_neighbor(current_route)\n",
        "        new_distance = calculate_distance(new_route, distance_matrix)\n",
        "        delta_distance = new_distance - current_distance\n",
        "\n",
        "        # Aceptar la nueva ruta si es mejor o con cierta probabilidad si es peor\n",
        "        if delta_distance < 0 or random.random() < math.exp(-delta_distance / temperature):\n",
        "            current_route = new_route\n",
        "            current_distance = new_distance\n",
        "\n",
        "        # Enfriar la temperatura\n",
        "        temperature *= cooling_rate\n",
        "\n",
        "    return current_route, current_distance\n",
        "\n",
        "# Ejemplo de matriz de distancias\n",
        "distance_matrix = [\n",
        "    [0, 10, 15, 20],\n",
        "    [10, 0, 35, 25],\n",
        "    [15, 35, 0, 30],\n",
        "    [20, 25, 30, 0]\n",
        "]\n",
        "\n",
        "# Parámetros del Recocido Simulado\n",
        "initial_temperature = 10000\n",
        "cooling_rate = 0.99\n",
        "stopping_temperature = 0.1\n",
        "\n",
        "# Ejecución del algoritmo\n",
        "best_route, best_distance = simulated_annealing(distance_matrix, initial_temperature, cooling_rate, stopping_temperature)\n",
        "print(f\"La mejor ruta encontrada es: {best_route} con una distancia de: {best_distance}\")\n"
      ]
    }
  ]
}